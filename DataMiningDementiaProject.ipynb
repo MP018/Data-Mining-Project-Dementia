{
 "cells": [
  {
   "cell_type": "code",
   "execution_count": 16,
   "id": "cb46a352-2a73-468d-9698-db39b398b9c7",
   "metadata": {},
   "outputs": [
    {
     "name": "stdout",
     "output_type": "stream",
     "text": [
      "21\n"
     ]
    }
   ],
   "source": [
    "import pandas as pd\n",
    "\n",
    "dataPredictions = pd.read_excel(\"Predictions.xlsx\")\n",
    "dataDemographics = pd.read_excel(\"oasis_longitudinal_demographics.xlsx\")\n",
    "\n",
    "# Using is null there are no null values\n",
    "dataPredictions.isnull().values.any()\n",
    "print(dataDemographics.isnull().sum().sum())\n",
    "# Check for duplicated data == no duplicated data\n",
    "\n"
   ]
  },
  {
   "cell_type": "code",
   "execution_count": null,
   "id": "513a8ac6-10bc-477b-b441-10973cd1718f",
   "metadata": {},
   "outputs": [],
   "source": []
  }
 ],
 "metadata": {
  "kernelspec": {
   "display_name": "Python 3 (ipykernel)",
   "language": "python",
   "name": "python3"
  },
  "language_info": {
   "codemirror_mode": {
    "name": "ipython",
    "version": 3
   },
   "file_extension": ".py",
   "mimetype": "text/x-python",
   "name": "python",
   "nbconvert_exporter": "python",
   "pygments_lexer": "ipython3",
   "version": "3.12.6"
  }
 },
 "nbformat": 4,
 "nbformat_minor": 5
}
